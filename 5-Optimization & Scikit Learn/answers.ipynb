{
 "cells": [
  {
   "cell_type": "markdown",
   "metadata": {},
   "source": [
    "# Homework 5\n",
    "\n",
    "In this homework, you'll review some linear algebra, and practice using `sklearn` and `scipy.optimize` to solve several variations of linear models.  You'll also use Pandas and Scikit learn for a simple machine learning task on a UCI data set."
   ]
  },
  {
   "cell_type": "code",
   "execution_count": 1,
   "metadata": {},
   "outputs": [],
   "source": [
    "import numpy as np\n",
    "import matplotlib.pyplot as plt\n",
    "import scipy.linalg as la\n",
    "import pandas as pd\n",
    "import sklearn\n",
    "import scipy.optimize as opt\n",
    "import scipy.sparse as sparse\n",
    "import sklearn.linear_model\n",
    "import sklearn.model_selection"
   ]
  },
  {
   "cell_type": "markdown",
   "metadata": {},
   "source": [
    "## Linear Models\n",
    "\n",
    "A standard problem in statistics to solve the multivariate linear regression problem.\n",
    "\\begin{equation}\n",
    "y = X * \\beta + \\epsilon\n",
    "\\end{equation}\n",
    "The above notation is standard in statistics, but we'll use Householder notation by replacing $\\beta$ with `b`\n",
    "```\n",
    "y = X * b + eps\n",
    "```\n",
    "`X` is known as the [design matrix](https://en.wikipedia.org/wiki/Design_matrix), and consists of `n` rows of observations, each of which has `p` features.  `y` is a vector of `n` responses.  `b` is an unknown vector of `p` coefficients which we would like to find.  `eps` (epsilon) is a vector of length `n` with random noise, typically i.i.d. normally distributed with variance `sig` (sigma).\n",
    "\n",
    "In numpy notation, we could express this as\n",
    "```python\n",
    "y[i] = np.dot(X[i], b) + sig * np.random.randn()\n",
    "```\n",
    "\n",
    "We want to determine `b`, so that when me make a new observation `X[n]` we can predict the response `y[n]`.  Our goal is to minimize the mean square error\n",
    "\n",
    "\\begin{equation}\n",
    "\\mathop{\\mathsf{minimize}}_b \\mathbb{E}((X[n]*b - y[n])^2)\n",
    "\\end{equation}\n",
    "\n",
    "The solution to this is the solution to the least squares problem\n",
    "\\begin{equation}\n",
    "\\mathop{\\mathsf{minimize}}_b \\frac{1}{n} \\|X*b - y\\|_2^2\n",
    "\\end{equation}\n",
    "\n",
    "Where $n$ is the number of rows in $X$.  We'll let the solution to the problem be denoted $\\hat{b}$, or `bhat`."
   ]
  },
  {
   "cell_type": "markdown",
   "metadata": {},
   "source": [
    "## Problem 0 - Linear Regression (30 points)\n",
    "\n",
    "There are a variety of ways to solve the above problem.  We'll assume that $n > p$, meaning there are more observations than features.\n",
    "\n",
    "### Generating Data\n",
    "\n",
    "Write a function `gen_lstsq(n, p, sig=0.1)` which will generate a linear least squares problem (return `X`, `y`, and `b` as described above).  `b` is the \"ground truth\" coefficients that we are looking for.  You can generate the matrix `X` using `np.random.randn`, and generate `b` using `np.random.randn` as well.\n"
   ]
  },
  {
   "cell_type": "code",
   "execution_count": 2,
   "metadata": {},
   "outputs": [],
   "source": [
    "def gen_lstsq(n, p, sig=0.1):\n",
    "    '''\n",
    "    Generate a linear least squares problem.\n",
    "    '''\n",
    "    X = np.random.randn(n,p)\n",
    "    b = np.random.randn(p,1)\n",
    "    eps = sig * np.random.randn(n,1)\n",
    "    y = np.dot(X, b) + eps\n",
    "    \n",
    "    return X, y, b"
   ]
  },
  {
   "cell_type": "markdown",
   "metadata": {},
   "source": [
    "### QR factorization\n",
    "\n",
    "If we form a QR factorization $X = QR$, we can find $\\hat{b} = R^{-1} Q^T y$.\n",
    "\n",
    "Write a function `solve_lstsq_qr(X, y)` which estimates `b` using the QR factorization as above."
   ]
  },
  {
   "cell_type": "code",
   "execution_count": 3,
   "metadata": {},
   "outputs": [],
   "source": [
    "def solve_lstsq_qr(X, y):\n",
    "    '''\n",
    "    Use QR factorization to solve the linear regression problem.\n",
    "    '''\n",
    "    Q, R = la.qr(X, mode='economic')\n",
    "    bhat = la.solve_triangular(R, Q.T @ y, lower = False)\n",
    "    \n",
    "    return bhat"
   ]
  },
  {
   "cell_type": "markdown",
   "metadata": {},
   "source": [
    "### Normal Equations\n",
    "\n",
    "Often, this is the way statistics textbooks solve the problem: $\\hat{b} = (X^T X)^{-1} X^T y$.  This is based on the normal equation $X^T X \\hat{b} = X^T y$.\n",
    "\n",
    "Write a function `solve_lstsq_normal(X, y)` which estimates `b` using the normal equations above.  You probably don't want to form the inverse - use an LU or Cholesky factorization instead."
   ]
  },
  {
   "cell_type": "code",
   "execution_count": 4,
   "metadata": {},
   "outputs": [],
   "source": [
    "def solve_lstsq_normal(X, y):\n",
    "    '''\n",
    "    Use normal equation to solve the linear regression problem.\n",
    "    '''\n",
    "    P,L,U = la.lu(X.T @ X)\n",
    "    bhat = la.solve_triangular(U,\n",
    "            la.solve_triangular(L,\n",
    "                P.T @ X.T @ y,\n",
    "                lower=True),\n",
    "            lower=False)  # LU decomposition to solve the linear system.\n",
    "    \n",
    "    return bhat"
   ]
  },
  {
   "cell_type": "markdown",
   "metadata": {},
   "source": [
    "### Check Your Work\n",
    "\n",
    "Generate a few random problems to test that `solve_lstsq_qr` and `solve_lstsq_normal` give the same prediction $\\hat{b}$ (measure $\\|\\hat{b}_{qr} - \\hat{b}_{normal}\\|_2$ and check it is smaller than `1e-4`).  Use $n > p$.  Check against `solve_lstsq` in numpy or scipy as well."
   ]
  },
  {
   "cell_type": "code",
   "execution_count": 5,
   "metadata": {},
   "outputs": [
    {
     "name": "stdout",
     "output_type": "stream",
     "text": [
      "Difference between beta_qr and beta_normal is 6.473657049138938e-16\n",
      "The difference is smaller than 1e-4 is True\n",
      "Difference between bhat from solve_lstsq and beta_qr is 6.977643512971218e-16\n",
      "The difference is smaller than 1e-4 is True\n",
      "Difference between bhat from solve_lstsq and beta_normal is 7.731808680624463e-16\n",
      "The difference is smaller than 1e-4 is True\n"
     ]
    }
   ],
   "source": [
    "X, y, b = gen_lstsq(1000, 5)\n",
    "bhat_qr = solve_lstsq_qr(X, y)\n",
    "bhat_normal = solve_lstsq_normal(X, y)\n",
    "bhat = la.lstsq(X, y)[0]\n",
    "\n",
    "diff1 = la.norm(bhat_qr-bhat_normal)\n",
    "diff2 = la.norm(bhat-bhat_qr)\n",
    "diff3 = la.norm(bhat-bhat_normal)\n",
    "\n",
    "print(f\"Difference between beta_qr and beta_normal is {diff1}\")\n",
    "print(f\"The difference is smaller than 1e-4 is {diff1<1e-4}\")\n",
    "print(f\"Difference between bhat from solve_lstsq and beta_qr is {diff2}\")\n",
    "print(f\"The difference is smaller than 1e-4 is {diff2<1e-4}\")\n",
    "print(f\"Difference between bhat from solve_lstsq and beta_normal is {diff3}\")\n",
    "print(f\"The difference is smaller than 1e-4 is {diff3<1e-4}\")"
   ]
  },
  {
   "cell_type": "markdown",
   "metadata": {},
   "source": [
    "### Estimate the Mean Squared Error\n",
    "\n",
    "Write a function `mse` which estimates the mean squared error (MSE) $\\mathbb{E}[\\|X * \\hat{b} - y\\|_2^2]$.\n",
    "\n",
    "The function should have the call signature `mse(b, bhat, N=100, sig=0.1)`  You can generate `X` to be `N x p` using `np.random.randn`, and set `y = X * b + sig * np.random.randn(p)` (use the same value of `sig` that you use when generating the data).  You can then estimate the MSE by computing $\\frac{1}{N}\\|X * \\hat{b} - y\\|_2^2$\n",
    "\n",
    "Create a plot of the MSE vs the noise parameter `sig` (use the same value of `sig` when generating data and computing the MSE).  Put `sig` on a logartihmic axis ranging from `1e-4` to `10`.  Use `n=100`, `p=50` when generating data, and `N=100` when computing the MSE.  Put your plot on log-log axes.  Give it a title and axis labels."
   ]
  },
  {
   "cell_type": "code",
   "execution_count": 6,
   "metadata": {},
   "outputs": [
    {
     "data": {
      "image/png": "[encoded data removed]",
      "text/plain": [
       "<Figure size 432x288 with 1 Axes>"
      ]
     },
     "metadata": {
      "needs_background": "light"
     },
     "output_type": "display_data"
    }
   ],
   "source": [
    "n = 100; p =50\n",
    "\n",
    "def mse(b, bhat, N=100, sig=0.1):\n",
    "    \n",
    "    X = np.random.randn(N,p)\n",
    "    y = X @ b + sig * np.random.randn(N,1)\n",
    "    y_pred = X @ bhat\n",
    "    mse = np.square(la.norm(y-y_pred))/N\n",
    "    \n",
    "    return mse\n",
    "\n",
    "mse_list = list()\n",
    "sig_range = np.logspace(-4, 1, num=5)\n",
    "    \n",
    "for i in sig_range:\n",
    "    # generate data\n",
    "    X, y, b = gen_lstsq(n, p, sig=i)\n",
    "    \n",
    "    # estimate beta\n",
    "    bhat = solve_lstsq_normal(X, y)\n",
    "    \n",
    "    # calculate mse\n",
    "    mse_n = mse(b, bhat, sig=i)\n",
    "    mse_list.append(mse_n)\n",
    "\n",
    "plt.loglog(sig_range, mse_list)\n",
    "plt.xlabel(\"sigma\")\n",
    "plt.ylabel(\"MSE\")\n",
    "plt.title(\"MSE vs the noise parameter sigma\")\n",
    "plt.show()"
   ]
  },
  {
   "cell_type": "markdown",
   "metadata": {},
   "source": [
    "### Discussion 1\n",
    "\n",
    "Which of `solve_lstsq_qr` and `solve_lstsq_normal` is faster?  Give a justification for your answer (e.g. in terms of what you know about time to compute matrix multiplication and factorizations)."
   ]
  },
  {
   "cell_type": "code",
   "execution_count": 7,
   "metadata": {},
   "outputs": [
    {
     "name": "stdout",
     "output_type": "stream",
     "text": [
      "CPU times: user 2.56 ms, sys: 1.43 ms, total: 3.98 ms\n",
      "Wall time: 5.15 ms\n",
      "CPU times: user 1.62 ms, sys: 369 µs, total: 1.99 ms\n",
      "Wall time: 1.06 ms\n"
     ]
    }
   ],
   "source": [
    "X, y, b = gen_lstsq(n=100, p=50)\n",
    "%time bhat1 = solve_lstsq_qr(X, y)\n",
    "%time bhat2 = solve_lstsq_normal(X, y)"
   ]
  },
  {
   "cell_type": "markdown",
   "metadata": {},
   "source": [
    "---\n",
    "\n",
    "**MY DISCUSSION**\n",
    "\n",
    "`solve_lstsq_normal` is faster than `solve_lstsq_qr`, but asympotically they are similar.\n",
    "\n",
    "First, consider `solve_lstsq_normal`, it takes $O(p^2n)$ for multiplication $X^TX$ and $O(pn)$ for multiplication $X^Ty$. Then, for the LU decomposition of $X^TX$, it takes $O(p^3)$. To solve the linear system in the triangular form, the time is $O(p^2)$.\n",
    "\n",
    "Therefore, the asympotic time using `solve_lstsq_normal` is $O(p^2n) + O(p^3)$\n",
    "\n",
    "Second, consider `solve_lstsq_qr`, it takes $O(p^2n)$ for QR decomposition and $O(pn)$ for multiplication $Q^Ty$. Then, to solve the linear system in the triangular form, the time is $O(p^2)$.\n",
    "\n",
    "Therefore, the asympotic time using `solve_lstsq_normal` is $O(p^2n)$\n",
    "\n",
    "Asymptotically, since we generally have $n>p$, $O(p^3)$ is dominated by $O(p^2n)$ and therefore, they are similar.\n",
    "\n",
    "However, since the LU decomposition is twice as fast as the QR decomposition. `solve_lstsq_normal` can be also faster than `solve_lstsq_qr`."
   ]
  },
  {
   "cell_type": "markdown",
   "metadata": {},
   "source": [
    "### Optimization\n",
    "\n",
    "Solve the minimization problem \n",
    "\\begin{equation}\n",
    "\\mathop{\\mathsf{minimize}}_b \\frac{1}{n}\\|X*b - y\\|_2^2\n",
    "\\end{equation}\n",
    "\n",
    "using `scipy.optimize.minimize`.  Wrap this in a function `solve_lstsq_opt(X, y)`.  Note that you can define the objective function inside `solve_lstsq_opt`\n",
    "\n",
    "**Jacobian**: you should implement the Jacobian of the objective function to use in the optimization problem.  Here's a derivation:  We'd like to minimize the objective function\n",
    "\\begin{equation}\n",
    "n f(b) = \\|X*b - y\\|_2^2 = (Xb - y)^T (Xb - y) = b^T X^T X b - 2 y^T X b + y^T y\n",
    "\\end{equation}\n",
    "\n",
    "We might write the above expression as\n",
    "\\begin{equation}\n",
    "n f(b) = \\sum_{i,j} b_i (X^T X)_{i,j} b_j - 2\\sum_{j,i} y_i X_{i,j} b_j + y^T y\n",
    "\\end{equation}\n",
    "\n",
    "We can take a derivative with respect to $b_j$\n",
    "\\begin{equation}\n",
    "n \\frac{\\partial f}{\\partial b_j} = \\sum_{i\\ne j} b_i (X^T X)_{i,j} + \\sum_{i\\ne j} (X^T X)_{j,i} b_i + 2 (X^T X)_{j,j} b_j  - 2\\sum_{i} y_i X_{i,j}\n",
    "\\end{equation}\n",
    "\n",
    "Putting this in matrix form, we obtain\n",
    "\\begin{equation}\n",
    "J_f(b) =  \\frac{1}{n}\\big( b^T (X^T X) + b^T (X^T X)^T - 2y^T X\\big) = \\frac{2}{n} b^T (X^T X) -\\frac{2}{n}y^T X\n",
    "\\end{equation}\n",
    "\n",
    "So we can write $J_f(b) = \\frac{2}{n} b^T (X^T X) -\\frac{2}{n} y^T X$"
   ]
  },
  {
   "cell_type": "code",
   "execution_count": 8,
   "metadata": {},
   "outputs": [],
   "source": [
    "def solve_lstsq_opt(X, y):\n",
    "    '''\n",
    "    Use the minimization to solve the linear regression problem.\n",
    "    '''\n",
    "    n, p = X.shape\n",
    "    \n",
    "    def f(b):\n",
    "        f = b.T @ X.T @ X @ b - 2 * y.T @ X @ b + y.T @ y\n",
    "        return f.flatten()\n",
    "    \n",
    "    def J(b):\n",
    "        J = 2 * b.T @ X.T @ X - 2 * y.T @ X # 2/n*(b^T(X^TX)-y^TX)\n",
    "        return J.flatten()\n",
    "    \n",
    "    bhat = opt.minimize(f, np.zeros((p,1)), jac = J)['x'].reshape(p,1)\n",
    "                        \n",
    "    return bhat"
   ]
  },
  {
   "cell_type": "markdown",
   "metadata": {},
   "source": [
    "#### Check Your Work\n",
    "\n",
    "Generate a few random problems to test that `solve_lstsq_opt` agrees with `solve_lstsq_qr` and `solve_lstsq_normal` in part A.  Use the same tolerance for checking."
   ]
  },
  {
   "cell_type": "code",
   "execution_count": 9,
   "metadata": {},
   "outputs": [
    {
     "name": "stdout",
     "output_type": "stream",
     "text": [
      "Difference between solve_lstsq_opt and solve_lstsq_qr is 2.846367044456615e-08\n",
      "The difference is smaller than 1e-4 is True\n",
      "Difference between solve_lstsq_opt and solve_lstsq_normal is 2.846367185072235e-08\n",
      "The difference is smaller than 1e-4 is True\n"
     ]
    }
   ],
   "source": [
    "n = 100; p = 50\n",
    "X, y, b  = gen_lstsq(n, p)\n",
    "bhat_opt = solve_lstsq_opt(X, y)\n",
    "bhat_qr  = solve_lstsq_qr(X, y)\n",
    "bhat_normal = solve_lstsq_normal(X, y)\n",
    "\n",
    "diff1 = la.norm(bhat_opt-bhat_qr)\n",
    "diff2 = la.norm(bhat_opt-bhat_normal)\n",
    "print(f\"Difference between solve_lstsq_opt and solve_lstsq_qr is {diff1}\")\n",
    "print(f\"The difference is smaller than 1e-4 is {diff1<1e-4}\")\n",
    "print(f\"Difference between solve_lstsq_opt and solve_lstsq_normal is {diff2}\")\n",
    "print(f\"The difference is smaller than 1e-4 is {diff2<1e-4}\")"
   ]
  },
  {
   "cell_type": "markdown",
   "metadata": {},
   "source": [
    "### Discussion 2\n",
    "\n",
    "How fast is `solve_lstsq_opt` compared to the functions you wrote in part A?  Give some justification for what you see."
   ]
  },
  {
   "cell_type": "code",
   "execution_count": 10,
   "metadata": {},
   "outputs": [
    {
     "name": "stdout",
     "output_type": "stream",
     "text": [
      "CPU times: user 1.71 ms, sys: 1.32 ms, total: 3.02 ms\n",
      "Wall time: 4.04 ms\n",
      "CPU times: user 1.13 ms, sys: 254 µs, total: 1.38 ms\n",
      "Wall time: 1.22 ms\n",
      "CPU times: user 39.8 ms, sys: 1.71 ms, total: 41.5 ms\n",
      "Wall time: 32.1 ms\n"
     ]
    }
   ],
   "source": [
    "X, y, b = gen_lstsq(n=100, p=50)\n",
    "%time bhat1 = solve_lstsq_qr(X, y)\n",
    "%time bhat2 = solve_lstsq_normal(X, y)\n",
    "%time bhat3 = solve_lstsq_opt(X, y)"
   ]
  },
  {
   "cell_type": "markdown",
   "metadata": {},
   "source": [
    "---\n",
    "**My Discussion**\n",
    "`solve_lstsq_opt` is much slower than `solve_lstsq_qr` and `solve_lstsq_normal`.\n",
    "\n",
    "The reason is that the minimization problem is  doing iteration, which repeats matrix multiplication and costs much more time than solve the linear system directly."
   ]
  },
  {
   "cell_type": "markdown",
   "metadata": {},
   "source": [
    "### Scikit Learn\n",
    "\n",
    "Use [`sklearn.linear_model.LinearRegression`](https://scikit-learn.org/stable/modules/generated/sklearn.linear_model.LinearRegression.html#sklearn.linear_model.LinearRegression) to solve the linear regression problem. You can get the vector `bhat` from `model.coef_`\n",
    "\n",
    "Make a plot for the MSE like you did above using `LinearRegression` instead of a `solve_lstsq` function.  Set the keyword `fit_intercept=False`."
   ]
  },
  {
   "cell_type": "code",
   "execution_count": 11,
   "metadata": {},
   "outputs": [
    {
     "data": {
      "image/png": "[encoded data removed]",
      "text/plain": [
       "<Figure size 432x288 with 1 Axes>"
      ]
     },
     "metadata": {
      "needs_background": "light"
     },
     "output_type": "display_data"
    }
   ],
   "source": [
    "n = 100; p =50\n",
    "mse_list = list()\n",
    "sig_range = np.logspace(-4, 1, num=5)\n",
    "    \n",
    "for i in sig_range:\n",
    "    # generate data\n",
    "    X, y, b = gen_lstsq(n, p, sig=i)\n",
    "    \n",
    "    # estimate beta\n",
    "    reg = sklearn.linear_model.LinearRegression(fit_intercept=False).fit(X, y)\n",
    "    bhat = reg.coef_.T\n",
    "    \n",
    "    # calculate mse\n",
    "    mse_n = mse(b, bhat, sig=i)\n",
    "    \n",
    "    mse_list.append(mse_n)\n",
    "    \n",
    "plt.loglog(sig_range, mse_list)\n",
    "plt.xlabel(\"sigma\")\n",
    "plt.ylabel(\"MSE\")\n",
    "plt.title(\"MSE vs the noise parameter sigma (using LinearRegression)\")\n",
    "plt.show()"
   ]
  },
  {
   "cell_type": "markdown",
   "metadata": {},
   "source": [
    "## Problem 1 - Ridge Regression (15 points)\n",
    "\n",
    "We'll now turn to the problem of what to do when `n < p` (there are fewer observations than features).  In this case we can solve $X * b = y$ exactly, but there are many possible values of $b$ which can satisfy the equation.\n",
    "\n",
    "The normal equations are singular, and the $R$ term of the QR factorization is not invertible in this case.  We need to do something else.\n",
    "\n",
    "Ridge regression seeks to solve the following optimization problem:\n",
    "\n",
    "\\begin{equation}\n",
    "\\mathop{\\mathsf{minimize}}_b \\frac{1}{n}\\|X*b - y\\|_2^2 + \\lambda \\|b\\|_2^2\n",
    "\\end{equation}\n",
    "\n",
    "$\\lambda$ is a parameter you can choose to \"regularize\" the problem which you can choose.\n",
    "\n",
    "### Optimization\n",
    "\n",
    "Use `scipy.optimize.minimize` to minimize the above optimization problem.  Wrap this in a function `solve_ridge_opt(X, y, lam=0.1)` (`lam` should be provided as a keyword argument for the variable $\\lambda$).\n",
    "\n",
    "What is the Jacobian for the objective function for the minimization problem?  Incorporate this into your optimization problem.  Hint: differentiation is linear, so you just need to add a term to the Jacobian in Problem 0 based on the Jacobian of\n",
    "\\begin{equation}\n",
    "\\lambda \\|b\\|_2^2 = \\lambda b^T b = \\lambda \\sum_i b_i^2\n",
    "\\end{equation}\n",
    "\n",
    "---\n",
    "\n",
    "The Jacobian is  $J_f(b) = \\frac{2}{n} b^T (X^T X) -\\frac{2}{n} y^TX + \\frac{2}{n}\\lambda b^T$"
   ]
  },
  {
   "cell_type": "code",
   "execution_count": 12,
   "metadata": {},
   "outputs": [],
   "source": [
    "def solve_ridge_opt(X, y, lam=0.1):\n",
    "    '''\n",
    "    Use the minimization to solve the ridge regression problem.\n",
    "    '''\n",
    "    n, p = X.shape\n",
    "    \n",
    "    def f(b):\n",
    "        f = b.T @ X.T @ X @ b - 2 * y.T @ X @ b + y.T @ y + lam * b.T @ b\n",
    "        return f.flatten()\n",
    "    \n",
    "    def J(b):\n",
    "        J = 2 * b.T @ X.T @ X - 2 * y.T @ X + 2 * lam * b.T \n",
    "        return J.flatten()\n",
    "    \n",
    "    bhat = opt.minimize(f, np.zeros((p,1)), jac = J)['x'].reshape(p,1)\n",
    "                        \n",
    "    return bhat"
   ]
  },
  {
   "cell_type": "markdown",
   "metadata": {},
   "source": [
    "### Compute the MSE\n",
    "\n",
    "Set `n = 50`, `p=100`, and `sig=0.1`.  Make a plot that displays the MSE of `bhat` computed using `solve_ridge_opt` as `lam` varies between `1e-4` and `1e2`.  Use a `semilogx` plot."
   ]
  },
  {
   "cell_type": "code",
   "execution_count": 13,
   "metadata": {},
   "outputs": [
    {
     "data": {
      "image/png": "[encoded data removed]",
      "text/plain": [
       "<Figure size 432x288 with 1 Axes>"
      ]
     },
     "metadata": {
      "needs_background": "light"
     },
     "output_type": "display_data"
    }
   ],
   "source": [
    "n =50; p = 100\n",
    "mse_list = list()\n",
    "lam_range = np.logspace(-4, 2, num=7)\n",
    "\n",
    "# generate data\n",
    "X, y, b = gen_lstsq(n, p)\n",
    "    \n",
    "for i in lam_range:\n",
    "    \n",
    "    # estimate beta\n",
    "    bhat = solve_ridge_opt(X, y, lam=i)\n",
    "    \n",
    "    # calculate mse\n",
    "    mse_n = mse(b, bhat)\n",
    "    \n",
    "    mse_list.append(mse_n)\n",
    "    \n",
    "plt.semilogx(lam_range, mse_list)\n",
    "plt.xlabel(\"lambda\")\n",
    "plt.ylabel(\"MSE\")\n",
    "plt.title(\"MSE vs lambda (Ridge Regression)\")\n",
    "plt.show()"
   ]
  },
  {
   "cell_type": "markdown",
   "metadata": {},
   "source": [
    "### Scikit Learn\n",
    "\n",
    "Use [`sklearn.linear_model.Ridge`](https://scikit-learn.org/stable/modules/generated/sklearn.linear_model.Ridge.html) to solve the Ridge regression problem (note that this uses the keyword `alpha` where we have used `lam`). You can get the vector `bhat` from `model.coef_`\n",
    "\n",
    "Make a plot for the MSE like you did above using `Ridge` instead of your `solve_ridge_opt` function.  In addition to the keyword `alpha`, set `fit_intercept=False`"
   ]
  },
  {
   "cell_type": "code",
   "execution_count": 14,
   "metadata": {},
   "outputs": [
    {
     "data": {
      "image/png": "[encoded data removed]",
      "text/plain": [
       "<Figure size 432x288 with 1 Axes>"
      ]
     },
     "metadata": {
      "needs_background": "light"
     },
     "output_type": "display_data"
    }
   ],
   "source": [
    "n = 50; p = 100\n",
    "mse_list = list()\n",
    "lam_range = np.logspace(-4, 2, num=7)\n",
    "\n",
    "# generate data\n",
    "X, y, b = gen_lstsq(n, p)\n",
    "    \n",
    "for i in lam_range:\n",
    "    \n",
    "    # estimate beta\n",
    "    ridge = sklearn.linear_model.Ridge(alpha=i, fit_intercept=False).fit(X, y)\n",
    "    bhat = ridge.coef_.T\n",
    "    \n",
    "    # calculate mse\n",
    "    mse_n = mse(b, bhat)\n",
    "    \n",
    "    mse_list.append(mse_n)\n",
    "    \n",
    "plt.semilogx(lam_range, mse_list)\n",
    "plt.xlabel(\"lambda\")\n",
    "plt.ylabel(\"MSE\")\n",
    "plt.title(\"MSE vs lambda (Ridge Regression(Scikit Learn))\")\n",
    "plt.show()"
   ]
  },
  {
   "cell_type": "markdown",
   "metadata": {},
   "source": [
    "## Problem 2 - Lasso (15 points)\n",
    "\n",
    "The Lasso is L1-regularized regression.  This is often used when `p > n`, and when the parameter vector `b` is assumed to be sparse, meaning that it has few non-zero entries.\n",
    "\n",
    "The minimization problem is\n",
    "\\begin{equation}\n",
    "\\mathop{\\mathsf{minimize}}_b \\frac{1}{n} \\|X * b - y\\|_2^2 + \\lambda \\|b\\|_1\n",
    "\\end{equation}\n",
    "\n",
    "Where again, $\\lambda$ can be chosen."
   ]
  },
  {
   "cell_type": "markdown",
   "metadata": {},
   "source": [
    "### Generate Data\n",
    "\n",
    "We need to modify our generation of data to produce sparse `b`.  Write a function `gen_lstsq_sparse(n, p, sig=0.1, k=10)`, which generates `X` and `y` in the same way as `gen_lstsq`, but now `b` is generated to be a vector of length `p` with `k` random entries set to 1, and all other entries set to 0. Hint: look at `np.random.choice` for generating `k` random integers without replacement."
   ]
  },
  {
   "cell_type": "code",
   "execution_count": 15,
   "metadata": {},
   "outputs": [],
   "source": [
    "def gen_lstsq_sparse(n, p, sig=0.1, k=10):\n",
    "    '''\n",
    "    generate a linear least squares problem in Lasso.\n",
    "    '''\n",
    "    # generate sparse b: length p with k random entries set to 1.\n",
    "    row = np.random.choice(p, k)\n",
    "    col = np.zeros(k)\n",
    "    data = np.ones(k)\n",
    "    b = sparse.coo_matrix((data, (row,col)), shape=(p,1)).tocsc()\n",
    "    \n",
    "    X = np.random.randn(n,p)\n",
    "    eps = sig * np.random.randn(n,1)\n",
    "    y = X @ b + eps\n",
    "    \n",
    "    return X, y, b"
   ]
  },
  {
   "cell_type": "markdown",
   "metadata": {},
   "source": [
    "### Optimization\n",
    "\n",
    "Recall we want to find `bhat` to solve\n",
    "\\begin{equation}\n",
    "\\mathop{\\mathsf{minimize}}_b \\frac{1}{n} \\|X * b - y\\|_2^2 + \\lambda \\|b\\|_1\n",
    "\\end{equation}\n",
    "\n",
    "Use `scipy.optimize.minimize` to minimize the above optimization problem.  Wrap this in a function `solve_lasso_opt(X, y, lam=0.1)` (`lam` should be provided as a keyword argument for the variable $\\lambda$).\n",
    "\n",
    "What is the Jacobian for the objective function for the minimization problem?  Incorporate this into your optimization problem.  Hint: differentiation is linear, so you just need to add a term to the Jacobian in Problem 0 based on the Jacobian of\n",
    "\\begin{equation}\n",
    "\\lambda \\|b\\|_1 = \\lambda \\sum_i |b_i|\n",
    "\\end{equation}\n",
    "\n",
    "If $b_i$ is zero, then take $\\partial_i |b_i| = 0$ (this is in the [subgradient](https://en.wikipedia.org/wiki/Subderivative)). Hint 2: look at `np.sign` for implementation\n",
    "\n",
    "---\n",
    "\n",
    "The Jacobian is  $J_f(b) = \\frac{2}{n} b^T (X^T X) -\\frac{2}{n} y^TX + \\frac{1}{n}\\lambda \\times sgn(b^T)$"
   ]
  },
  {
   "cell_type": "code",
   "execution_count": 16,
   "metadata": {},
   "outputs": [],
   "source": [
    "def solve_lasso_opt(X, y, lam=0.1):\n",
    "    '''\n",
    "    Solve Lasso using minimization problem.\n",
    "    '''\n",
    "    n, p = X.shape\n",
    "    def f(b):\n",
    "        f = b.T @ X.T @ X @ b - 2 * y.T @ X @ b + y.T @ y + lam * la.norm(b, ord=1)\n",
    "        return f.flatten()\n",
    "    \n",
    "    def J(b):\n",
    "        J = 2 * b.T @ X.T @ X - 2 * y.T @ X + lam * np.sign(b).reshape(1,p)\n",
    "        return J.flatten()\n",
    "    \n",
    "    bhat = opt.minimize(f, np.zeros((p,1)), jac = J)['x'].reshape(p,1)\n",
    "    \n",
    "    return bhat"
   ]
  },
  {
   "cell_type": "markdown",
   "metadata": {},
   "source": [
    "### Compute the MSE\n",
    "\n",
    "Set `n = 50`, `p=100`,`sig=0.1`, and `k=10` to generate a problem using `gen_lstsq_sparse`.  Make a plot that displays the MSE of `bhat` computed using `solve_lasso_opt` as `lam` varies between `1e-4` and `1e2`.  Use a `semilogx` plot."
   ]
  },
  {
   "cell_type": "code",
   "execution_count": 17,
   "metadata": {},
   "outputs": [
    {
     "data": {
      "image/png": "[encoded data removed]",
      "text/plain": [
       "<Figure size 432x288 with 1 Axes>"
      ]
     },
     "metadata": {
      "needs_background": "light"
     },
     "output_type": "display_data"
    }
   ],
   "source": [
    "n = 50; p = 100\n",
    "\n",
    "mse_list= list()\n",
    "lam_range = np.logspace(-4, 2, num=7)\n",
    "\n",
    "# generate data\n",
    "X, y, b = gen_lstsq_sparse(n, p)\n",
    "\n",
    "for i in lam_range:\n",
    "    \n",
    "    # estimate beta\n",
    "    bhat = solve_lasso_opt(X, y, lam=i)\n",
    "    \n",
    "    # calculate mse\n",
    "    mse_n = mse(b, bhat)\n",
    "    mse_list.append(mse_n)\n",
    "    \n",
    "plt.semilogx(lam_range, mse_list)\n",
    "plt.xlabel(\"lambda\")\n",
    "plt.ylabel(\"MSE\")\n",
    "plt.title(\"MSE vs lambda (Lasso)\")\n",
    "plt.show()"
   ]
  },
  {
   "cell_type": "markdown",
   "metadata": {},
   "source": [
    "### Scikit Learn\n",
    "\n",
    "Use [`sklearn.linear_model.Lasso`](https://scikit-learn.org/stable/modules/generated/sklearn.linear_model.Lasso.html#sklearn.linear_model.Lasso) to solve the Lasso regression problem (note that this uses the keyword `alpha` where we have used `lam`). You can get the vector `bhat` from `model.coef_`\n",
    "\n",
    "Make a plot for the MSE like you did above using `Lasso` instead of your `solve_lasso_opt` function.  In addition to the keyword `alpha`, set `fit_intercept=False`"
   ]
  },
  {
   "cell_type": "code",
   "execution_count": 18,
   "metadata": {},
   "outputs": [
    {
     "data": {
      "image/png": "[encoded data removed]",
      "text/plain": [
       "<Figure size 432x288 with 1 Axes>"
      ]
     },
     "metadata": {
      "needs_background": "light"
     },
     "output_type": "display_data"
    }
   ],
   "source": [
    "n = 50; p=100\n",
    "\n",
    "mse_list= list()\n",
    "lam_range = np.logspace(-4, 2, num=7)\n",
    "\n",
    "# generate data\n",
    "X, y, b = gen_lstsq_sparse(n, p)\n",
    "\n",
    "for i in lam_range:\n",
    "    \n",
    "    # estimate beta\n",
    "    lasso = sklearn.linear_model.Lasso(alpha=i, fit_intercept=False, max_iter=3000).fit(X, y)\n",
    "    bhat1 = lasso.coef_.T\n",
    "    \n",
    "    # calculate mse\n",
    "    mse_n = mse(b, bhat)\n",
    "    mse_list.append(mse_n)\n",
    "    \n",
    "plt.semilogx(lam_range, mse_list)\n",
    "plt.xlabel(\"lambda\")\n",
    "plt.ylabel(\"MSE\")\n",
    "plt.title(\"MSE vs lambda (Lasso (Scikit Learn))\")\n",
    "plt.show()"
   ]
  },
  {
   "cell_type": "markdown",
   "metadata": {},
   "source": [
    "## Problem 3 - Elastic Net (20 points)\n",
    "\n",
    "Another option when `p > n` is the [Elastic Net]() which combines L1 and L2 regularization.\n",
    "\n",
    "\\begin{equation}\n",
    "\\mathop{\\mathsf{minimize}}_b \\frac{1}{n} \\|X * b - y\\|_2^2 + \\lambda_1 \\|b\\|_1 + \\lambda_2 \\|b\\|_2^2\n",
    "\\end{equation}\n",
    "Where we get to choose $\\lambda_1$ and $\\lambda_2$.\n",
    "\n",
    "You can find a function that does this in [`sklearn.linear_model.ElasticNet`](https://scikit-learn.org/stable/modules/generated/sklearn.linear_model.ElasticNet.html#sklearn.linear_model.ElasticNet).\n",
    "\n",
    "In this problem, you'll write a class that emulates the behavior of a Scikit learn class. Use `scipy.optimize.minimize` to solve the optimization problem.\n"
   ]
  },
  {
   "cell_type": "markdown",
   "metadata": {},
   "source": [
    "### Jacobian\n",
    "\n",
    "Give an expression for the Jacobian for the optimization objective function.  You've already done all the hard work for this in problems 1 and 2\n",
    "\n",
    "---\n",
    "\n",
    "The Jacobian is  $J_f(b) = \\frac{2}{n} b^T (X^T X) -\\frac{2}{n} y^TX + \\frac{1}{n}\\lambda_1 \\times sgn(b^T) + \\frac{2}{n}\\lambda_2 b^T$"
   ]
  },
  {
   "cell_type": "markdown",
   "metadata": {},
   "source": [
    "### Write the Class\n",
    "\n",
    "Define a Python Class `ElasticNet`.  When you initialize the class you should be able to provide keyword arguments `lam1` for $\\lambda_1$ and `lam2` for $\\lambda_2$.  Give each these keyword arguments a default value of `0.5`.\n",
    "\n",
    "In addition to `__init__`, your class should provide two methods:\n",
    "1. `fit(X, y)` - sets an attribute `bhat` which solves the optimization problem (use the parameters `lam1` and `lam2` provided in initialization).  Use `scipy.optimize.minimize`\n",
    "2. `predict(X)` - predict values of `y` as `X @ bhat`"
   ]
  },
  {
   "cell_type": "code",
   "execution_count": 19,
   "metadata": {},
   "outputs": [],
   "source": [
    "class ElasticNet:\n",
    "    \n",
    "    def __init__(self, lam1=0.5, lam2=0.5):\n",
    "        self.lam1 = lam1\n",
    "        self.lam2 = lam2\n",
    "        self.bhat = None\n",
    "        \n",
    "    def fit(self, X, y):\n",
    "        \n",
    "        n, p = X.shape\n",
    "        \n",
    "        def f(b):\n",
    "            f = b.T @ X.T @ X @ b - 2 * y.T @ X @ b + y.T @ y + self.lam1 * la.norm(b, ord=1) + self.lam2 * b.T @ b\n",
    "            return f.flatten()\n",
    "    \n",
    "        def J(b):\n",
    "            J = 2 * b.T @ X.T @ X - 2 * y.T @ X + self.lam1 * np.sign(b).reshape(1,p) + self.lam2 * b.T\n",
    "            return J.flatten()\n",
    "        \n",
    "        self.bhat = opt.minimize(f, np.zeros((p,1)), jac = J)['x'].reshape(p,1)\n",
    "        \n",
    "    def predict(self, X):\n",
    "        \n",
    "        return X @ self.bhat"
   ]
  },
  {
   "cell_type": "markdown",
   "metadata": {},
   "source": [
    "### Compute the MSE\n",
    "\n",
    "Set `n=50`, `p=100`,`sig=0.1`, and `k=10` to generate a problem using `gen_lstsq_sparse`.  \n",
    "\n",
    "Set `n=50`, `p=100`, and `sig=0.1` to generate a problem using `gen_lstsq`.\n",
    "\n",
    "Make a plot that displays the MSE of the model computed using your `ElasticNet` class using `lam1=lam2` varying between `1e-4` and `1e2` for each of the generated problems (your plot should have 2 lines).  Give your plot a title, axis labels, and a legend."
   ]
  },
  {
   "cell_type": "code",
   "execution_count": 20,
   "metadata": {
    "scrolled": true
   },
   "outputs": [
    {
     "data": {
      "image/png": "[encoded data removed]",
      "text/plain": [
       "<Figure size 432x288 with 1 Axes>"
      ]
     },
     "metadata": {
      "needs_background": "light"
     },
     "output_type": "display_data"
    }
   ],
   "source": [
    "n = 50; p = 100\n",
    "lam_range = np.logspace(-4, 2, num=7)\n",
    "mse_list1= list()\n",
    "X, y, b = gen_lstsq_sparse(n, p)\n",
    "\n",
    "for i in lam_range:\n",
    "    elnet = ElasticNet(lam1=i, lam2=i)\n",
    "    elnet.fit(X, y)\n",
    "    bhat = elnet.bhat\n",
    "    mse_n = mse(b, bhat)\n",
    "    mse_list1.append(mse_n)\n",
    "\n",
    "mse_list2= list()\n",
    "X, y, b = gen_lstsq(n, p)\n",
    "\n",
    "for i in lam_range:\n",
    "    elnet = ElasticNet(lam1=i, lam2=i)\n",
    "    elnet.fit(X, y)\n",
    "    bhat = elnet.bhat\n",
    "    mse_n = mse(b, bhat)\n",
    "    mse_list2.append(mse_n)\n",
    "    \n",
    "plt.semilogx(lam_range, mse_list1, label=\"sparse\")\n",
    "plt.semilogx(lam_range, mse_list2, label=\"dense\")\n",
    "plt.xlabel(\"lambda\")\n",
    "plt.ylabel(\"MSE\")\n",
    "plt.legend(loc='best')\n",
    "plt.title(\"MSE vs lambda (ElasticNet)\")\n",
    "plt.show()"
   ]
  },
  {
   "cell_type": "markdown",
   "metadata": {},
   "source": [
    "## Problem 4 - Real Data (20 points)\n",
    "\n",
    "In this problem you'll use the [Wine Quality Data Set](https://archive.ics.uci.edu/ml/machine-learning-databases/wine-quality/).  We'll focus on the red wines found in [`winequality-red.csv`](https://archive.ics.uci.edu/ml/machine-learning-databases/wine-quality/winequality-red.csv).  The goal is to train a machine learning model that will predict the wine quality from a variety of other features."
   ]
  },
  {
   "cell_type": "markdown",
   "metadata": {},
   "source": [
    "### Load the data set\n",
    "\n",
    "Load the wines in `winequality-red.csv` into a Pandas data frame. Note that this file has column labels, which are interpreted in the data set documentation:\n",
    "\n",
    "Input variables (based on physicochemical tests):\n",
    "1. fixed acidity\n",
    "2. volatile acidity\n",
    "3. citric acid\n",
    "4. residual sugar\n",
    "5. chlorides\n",
    "6. free sulfur dioxide\n",
    "7. total sulfur dioxide\n",
    "8. density\n",
    "9. pH\n",
    "10. sulphates\n",
    "11. alcohol\n",
    "\n",
    "Output variable (based on sensory data):\n",
    "\n",
    "12. quality (score between 0 and 10)\n",
    "\n",
    "Note that this file uses semi-colons `;` to delimit values.  You can use `delimiter=';'` as a keyword argument."
   ]
  },
  {
   "cell_type": "code",
   "execution_count": 22,
   "metadata": {},
   "outputs": [],
   "source": [
    "data = pd.read_csv(\"https://archive.ics.uci.edu/ml/machine-learning-databases/wine-quality/winequality-red.csv\",\n",
    "                  delimiter=';')\n",
    "X = data.iloc[:,:-1]\n",
    "y = data['quality']"
   ]
  },
  {
   "cell_type": "markdown",
   "metadata": {},
   "source": [
    "The first 11 columns will be features for the model (used in the design matrix `X`), and the last column (quality) is the quantity we're tyring to predict (the response `y`).\n",
    "\n",
    "### Split the Data in to Training and Testing Sets\n",
    "\n",
    "Split the data `X, y` into `X_train, y_train, X_test, y_test` using `sklearn`.  Use 70% of the data for training, and 30% of the data for testing.\n"
   ]
  },
  {
   "cell_type": "code",
   "execution_count": 23,
   "metadata": {},
   "outputs": [],
   "source": [
    "X_train, X_test, y_train, y_test = sklearn.model_selection.train_test_split(\n",
    "    X, y, test_size=0.3, random_state=42)"
   ]
  },
  {
   "cell_type": "markdown",
   "metadata": {},
   "source": [
    "### Train a Model and Measure Error\n",
    "\n",
    "Use [`sklearn.linear_model.LinearRegression`](https://scikit-learn.org/stable/modules/generated/sklearn.linear_model.LinearRegression.html#sklearn.linear_model.LinearRegression) to fit a linear regression model to your training data.\n",
    "\n",
    "Use [`sklearn.metrics.mean_squared_error`](https://scikit-learn.org/stable/modules/generated/sklearn.metrics.mean_squared_error.html#sklearn.metrics.mean_squared_error) to compute the MSE on your test set."
   ]
  },
  {
   "cell_type": "code",
   "execution_count": 24,
   "metadata": {},
   "outputs": [
    {
     "name": "stdout",
     "output_type": "stream",
     "text": [
      "MSE on the test set is 0.41123487175041995\n"
     ]
    }
   ],
   "source": [
    "# fit a linear regression model to your training data\n",
    "model = sklearn.linear_model.LinearRegression().fit(X_train, y_train)\n",
    "\n",
    "# predict y using training model\n",
    "y_pred = model.predict(X_test)\n",
    "\n",
    "# compute the MSE on your test set\n",
    "mse = sklearn.metrics.mean_squared_error(y_test, y_pred)\n",
    "print(f\"MSE on the test set is {mse}\")"
   ]
  },
  {
   "cell_type": "code",
   "execution_count": null,
   "metadata": {},
   "outputs": [],
   "source": []
  }
 ],
 "metadata": {
  "kernelspec": {
   "display_name": "Python 3",
   "language": "python",
   "name": "python3"
  },
  "language_info": {
   "codemirror_mode": {
    "name": "ipython",
    "version": 3
   },
   "file_extension": ".py",
   "mimetype": "text/x-python",
   "name": "python",
   "nbconvert_exporter": "python",
   "pygments_lexer": "ipython3",
   "version": "3.8.8"
  }
 },
 "nbformat": 4,
 "nbformat_minor": 4
}
